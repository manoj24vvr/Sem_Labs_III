{
 "cells": [
  {
   "cell_type": "markdown",
   "id": "a9fd61ac",
   "metadata": {},
   "source": [
    "## Exer 3 – Data Analysis using mtcars"
   ]
  },
  {
   "cell_type": "code",
   "execution_count": 1,
   "id": "b26231d1",
   "metadata": {},
   "outputs": [
    {
     "name": "stdout",
     "output_type": "stream",
     "text": [
      "mtcars Dataset successfully uploaded!!\n"
     ]
    },
    {
     "data": {
      "text/html": [
       "<div>\n",
       "<style scoped>\n",
       "    .dataframe tbody tr th:only-of-type {\n",
       "        vertical-align: middle;\n",
       "    }\n",
       "\n",
       "    .dataframe tbody tr th {\n",
       "        vertical-align: top;\n",
       "    }\n",
       "\n",
       "    .dataframe thead th {\n",
       "        text-align: right;\n",
       "    }\n",
       "</style>\n",
       "<table border=\"1\" class=\"dataframe\">\n",
       "  <thead>\n",
       "    <tr style=\"text-align: right;\">\n",
       "      <th></th>\n",
       "      <th>model</th>\n",
       "      <th>mpg</th>\n",
       "      <th>cyl</th>\n",
       "      <th>disp</th>\n",
       "      <th>hp</th>\n",
       "      <th>drat</th>\n",
       "      <th>wt</th>\n",
       "      <th>qsec</th>\n",
       "      <th>vs</th>\n",
       "      <th>am</th>\n",
       "      <th>gear</th>\n",
       "      <th>carb</th>\n",
       "    </tr>\n",
       "  </thead>\n",
       "  <tbody>\n",
       "    <tr>\n",
       "      <th>0</th>\n",
       "      <td>Mazda RX4</td>\n",
       "      <td>21.0</td>\n",
       "      <td>6</td>\n",
       "      <td>160.0</td>\n",
       "      <td>110</td>\n",
       "      <td>3.90</td>\n",
       "      <td>2.620</td>\n",
       "      <td>16.46</td>\n",
       "      <td>0</td>\n",
       "      <td>1</td>\n",
       "      <td>4</td>\n",
       "      <td>4</td>\n",
       "    </tr>\n",
       "    <tr>\n",
       "      <th>1</th>\n",
       "      <td>Mazda RX4 Wag</td>\n",
       "      <td>21.0</td>\n",
       "      <td>6</td>\n",
       "      <td>160.0</td>\n",
       "      <td>110</td>\n",
       "      <td>3.90</td>\n",
       "      <td>2.875</td>\n",
       "      <td>17.02</td>\n",
       "      <td>0</td>\n",
       "      <td>1</td>\n",
       "      <td>4</td>\n",
       "      <td>4</td>\n",
       "    </tr>\n",
       "    <tr>\n",
       "      <th>2</th>\n",
       "      <td>Datsun 710</td>\n",
       "      <td>22.8</td>\n",
       "      <td>4</td>\n",
       "      <td>108.0</td>\n",
       "      <td>93</td>\n",
       "      <td>3.85</td>\n",
       "      <td>2.320</td>\n",
       "      <td>18.61</td>\n",
       "      <td>1</td>\n",
       "      <td>1</td>\n",
       "      <td>4</td>\n",
       "      <td>1</td>\n",
       "    </tr>\n",
       "    <tr>\n",
       "      <th>3</th>\n",
       "      <td>Hornet 4 Drive</td>\n",
       "      <td>21.4</td>\n",
       "      <td>6</td>\n",
       "      <td>258.0</td>\n",
       "      <td>110</td>\n",
       "      <td>3.08</td>\n",
       "      <td>3.215</td>\n",
       "      <td>19.44</td>\n",
       "      <td>1</td>\n",
       "      <td>0</td>\n",
       "      <td>3</td>\n",
       "      <td>1</td>\n",
       "    </tr>\n",
       "    <tr>\n",
       "      <th>4</th>\n",
       "      <td>Hornet Sportabout</td>\n",
       "      <td>18.7</td>\n",
       "      <td>8</td>\n",
       "      <td>360.0</td>\n",
       "      <td>175</td>\n",
       "      <td>3.15</td>\n",
       "      <td>3.440</td>\n",
       "      <td>17.02</td>\n",
       "      <td>0</td>\n",
       "      <td>0</td>\n",
       "      <td>3</td>\n",
       "      <td>2</td>\n",
       "    </tr>\n",
       "  </tbody>\n",
       "</table>\n",
       "</div>"
      ],
      "text/plain": [
       "               model   mpg  cyl   disp   hp  drat     wt   qsec  vs  am  gear  \\\n",
       "0          Mazda RX4  21.0    6  160.0  110  3.90  2.620  16.46   0   1     4   \n",
       "1      Mazda RX4 Wag  21.0    6  160.0  110  3.90  2.875  17.02   0   1     4   \n",
       "2         Datsun 710  22.8    4  108.0   93  3.85  2.320  18.61   1   1     4   \n",
       "3     Hornet 4 Drive  21.4    6  258.0  110  3.08  3.215  19.44   1   0     3   \n",
       "4  Hornet Sportabout  18.7    8  360.0  175  3.15  3.440  17.02   0   0     3   \n",
       "\n",
       "   carb  \n",
       "0     4  \n",
       "1     4  \n",
       "2     1  \n",
       "3     1  \n",
       "4     2  "
      ]
     },
     "execution_count": 1,
     "metadata": {},
     "output_type": "execute_result"
    }
   ],
   "source": [
    "#Importing the Pandas Library\n",
    "import pandas as pd\n",
    "\n",
    "#Upload the Dataset\n",
    "df = pd.read_csv(\"mtcars.csv\")\n",
    "print(\"mtcars Dataset successfully uploaded!!\")\n",
    "\n",
    "# Display first 5 rows of the dataset\n",
    "df.head()"
   ]
  },
  {
   "cell_type": "markdown",
   "id": "21eb7202",
   "metadata": {},
   "source": [
    "### 1. Find the car with the best mpg"
   ]
  },
  {
   "cell_type": "code",
   "execution_count": 2,
   "id": "1a4bbd23",
   "metadata": {},
   "outputs": [
    {
     "data": {
      "text/plain": [
       "19    Toyota Corolla\n",
       "Name: model, dtype: object"
      ]
     },
     "execution_count": 2,
     "metadata": {},
     "output_type": "execute_result"
    }
   ],
   "source": [
    "df[df['mpg']==df['mpg'].max()]['model']"
   ]
  },
  {
   "cell_type": "markdown",
   "id": "a164853f",
   "metadata": {},
   "source": [
    "#### Toyota  Corolla is the car with best mpg."
   ]
  },
  {
   "cell_type": "markdown",
   "id": "7edfb7f6",
   "metadata": {},
   "source": [
    "### 2. Find the car with the worst mpg"
   ]
  },
  {
   "cell_type": "code",
   "execution_count": 3,
   "id": "84acb0d9",
   "metadata": {},
   "outputs": [
    {
     "data": {
      "text/plain": [
       "14     Cadillac Fleetwood\n",
       "15    Lincoln Continental\n",
       "Name: model, dtype: object"
      ]
     },
     "execution_count": 3,
     "metadata": {},
     "output_type": "execute_result"
    }
   ],
   "source": [
    "df[df['mpg']==df['mpg'].min()]['model']"
   ]
  },
  {
   "cell_type": "markdown",
   "id": "cc246ec8",
   "metadata": {},
   "source": [
    " Both Cadillac Fleetwood and Lincoln Continental cars have the least mpg."
   ]
  },
  {
   "cell_type": "markdown",
   "id": "0901fae1",
   "metadata": {},
   "source": [
    "### 3. Find the car with the best horsepower"
   ]
  },
  {
   "cell_type": "code",
   "execution_count": 4,
   "id": "44f93561",
   "metadata": {},
   "outputs": [
    {
     "data": {
      "text/plain": [
       "30    Maserati Bora\n",
       "Name: model, dtype: object"
      ]
     },
     "execution_count": 4,
     "metadata": {},
     "output_type": "execute_result"
    }
   ],
   "source": [
    "df[df['hp']==df['hp'].max()]['model']"
   ]
  },
  {
   "cell_type": "markdown",
   "id": "9d473b83",
   "metadata": {},
   "source": [
    " Maseratti Bora has the highest horsepower"
   ]
  },
  {
   "cell_type": "markdown",
   "id": "c886b79e",
   "metadata": {},
   "source": [
    "### 4. Find 5 number summary of displacement"
   ]
  },
  {
   "cell_type": "code",
   "execution_count": 5,
   "id": "0cfb8b51",
   "metadata": {},
   "outputs": [
    {
     "data": {
      "text/plain": [
       "count     32.000000\n",
       "mean     230.721875\n",
       "std      123.938694\n",
       "min       71.100000\n",
       "25%      120.825000\n",
       "50%      196.300000\n",
       "75%      326.000000\n",
       "max      472.000000\n",
       "Name: disp, dtype: float64"
      ]
     },
     "execution_count": 5,
     "metadata": {},
     "output_type": "execute_result"
    }
   ],
   "source": [
    "df['disp'].describe()"
   ]
  },
  {
   "cell_type": "markdown",
   "id": "a4252746",
   "metadata": {},
   "source": [
    "describe() function is used to display the Descriptive Statistics of required data."
   ]
  },
  {
   "cell_type": "markdown",
   "id": "4f27cf08",
   "metadata": {},
   "source": [
    "### 5. Find median horse power"
   ]
  },
  {
   "cell_type": "code",
   "execution_count": 6,
   "id": "5c3dff21",
   "metadata": {},
   "outputs": [
    {
     "data": {
      "text/plain": [
       "123.0"
      ]
     },
     "execution_count": 6,
     "metadata": {},
     "output_type": "execute_result"
    }
   ],
   "source": [
    "df['hp'].median()"
   ]
  },
  {
   "cell_type": "markdown",
   "id": "63b97389",
   "metadata": {},
   "source": [
    "#### Median horsepower is 123"
   ]
  },
  {
   "cell_type": "markdown",
   "id": "86d1e3b1",
   "metadata": {},
   "source": [
    "### 6. What is average mpg for manual vs. automatic cars"
   ]
  },
  {
   "cell_type": "code",
   "execution_count": 7,
   "id": "26362cae",
   "metadata": {},
   "outputs": [],
   "source": [
    "man_cars = df[df['am']==0]\n",
    "aut_cars = df[df['am']==1]\n",
    "\n",
    "# man_cars is the subset of mtcars dataset consisting data of only manual cars.\n",
    "# aut_cars is the subset of mtcars dataset consisting data of only manual cars."
   ]
  },
  {
   "cell_type": "code",
   "execution_count": 8,
   "id": "d070d077",
   "metadata": {},
   "outputs": [
    {
     "data": {
      "text/plain": [
       "17.147368421052633"
      ]
     },
     "execution_count": 8,
     "metadata": {},
     "output_type": "execute_result"
    }
   ],
   "source": [
    "# To find the average mpg of manual cars\n",
    "man_cars['mpg'].mean()"
   ]
  },
  {
   "cell_type": "code",
   "execution_count": 9,
   "id": "a276df2d",
   "metadata": {},
   "outputs": [
    {
     "data": {
      "text/plain": [
       "24.39230769230769"
      ]
     },
     "execution_count": 9,
     "metadata": {},
     "output_type": "execute_result"
    }
   ],
   "source": [
    "# To find the average mpg of utomatic cars\n",
    "aut_cars['mpg'].mean()"
   ]
  },
  {
   "cell_type": "markdown",
   "id": "d93f6d9b",
   "metadata": {},
   "source": [
    "### 7. Draw a histogram of miles per gallon"
   ]
  },
  {
   "cell_type": "code",
   "execution_count": 10,
   "id": "75beaeb7",
   "metadata": {},
   "outputs": [
    {
     "data": {
      "text/plain": [
       "<AxesSubplot:>"
      ]
     },
     "execution_count": 10,
     "metadata": {},
     "output_type": "execute_result"
    },
    {
     "data": {
      "image/png": "[encoded data removed]",
      "text/plain": [
       "<Figure size 432x288 with 1 Axes>"
      ]
     },
     "metadata": {
      "needs_background": "light"
     },
     "output_type": "display_data"
    }
   ],
   "source": [
    "# Displaying a histogram\n",
    "df['mpg'].hist()"
   ]
  },
  {
   "cell_type": "markdown",
   "id": "bc1f3c93",
   "metadata": {},
   "source": [
    "hist() function is used to display the histogram of requaired data."
   ]
  },
  {
   "cell_type": "markdown",
   "id": "d09225eb",
   "metadata": {},
   "source": [
    "### 8.\tBoxplot of mpg for each cylinder type"
   ]
  },
  {
   "cell_type": "code",
   "execution_count": 11,
   "id": "8e886ae9",
   "metadata": {},
   "outputs": [
    {
     "data": {
      "text/plain": [
       "<AxesSubplot:title={'center':'mpg'}, xlabel='cyl'>"
      ]
     },
     "execution_count": 11,
     "metadata": {},
     "output_type": "execute_result"
    },
    {
     "data": {
      "image/png": "[encoded data removed]",
      "text/plain": [
       "<Figure size 432x288 with 1 Axes>"
      ]
     },
     "metadata": {
      "needs_background": "light"
     },
     "output_type": "display_data"
    }
   ],
   "source": [
    "# Displaying a boxplot\n",
    "df.boxplot(column=\"mpg\",by=\"cyl\")"
   ]
  },
  {
   "cell_type": "markdown",
   "id": "01a519bb",
   "metadata": {},
   "source": [
    "boxplot() function is used to create Box plots of required data."
   ]
  },
  {
   "cell_type": "markdown",
   "id": "6022c787",
   "metadata": {},
   "source": [
    "### 9.\tCreate a crosstab displaying count of automatic vs. manual cars"
   ]
  },
  {
   "cell_type": "code",
   "execution_count": 12,
   "id": "b77b4580",
   "metadata": {},
   "outputs": [
    {
     "ename": "ValueError",
     "evalue": "aggfunc cannot be used without values.",
     "output_type": "error",
     "traceback": [
      "\u001b[1;31m---------------------------------------------------------------------------\u001b[0m",
      "\u001b[1;31mValueError\u001b[0m                                Traceback (most recent call last)",
      "\u001b[1;32m<ipython-input-12-99ee6cc381ad>\u001b[0m in \u001b[0;36m<module>\u001b[1;34m\u001b[0m\n\u001b[1;32m----> 1\u001b[1;33m \u001b[0mpd\u001b[0m\u001b[1;33m.\u001b[0m\u001b[0mcrosstab\u001b[0m\u001b[1;33m(\u001b[0m\u001b[0mman_cars\u001b[0m\u001b[1;33m[\u001b[0m\u001b[1;34m\"am\"\u001b[0m\u001b[1;33m]\u001b[0m\u001b[1;33m,\u001b[0m\u001b[0maut_cars\u001b[0m\u001b[1;33m[\u001b[0m\u001b[1;34m\"am\"\u001b[0m\u001b[1;33m]\u001b[0m\u001b[1;33m,\u001b[0m\u001b[0maggfunc\u001b[0m\u001b[1;33m=\u001b[0m\u001b[1;34m'mean'\u001b[0m\u001b[1;33m)\u001b[0m\u001b[1;33m\u001b[0m\u001b[1;33m\u001b[0m\u001b[0m\n\u001b[0m",
      "\u001b[1;32m~\\AppData\\Roaming\\Python\\Python37\\site-packages\\pandas\\core\\reshape\\pivot.py\u001b[0m in \u001b[0;36mcrosstab\u001b[1;34m(index, columns, values, rownames, colnames, aggfunc, margins, margins_name, dropna, normalize)\u001b[0m\n\u001b[0;32m    566\u001b[0m     \"\"\"\n\u001b[0;32m    567\u001b[0m     \u001b[1;32mif\u001b[0m \u001b[0mvalues\u001b[0m \u001b[1;32mis\u001b[0m \u001b[1;32mNone\u001b[0m \u001b[1;32mand\u001b[0m \u001b[0maggfunc\u001b[0m \u001b[1;32mis\u001b[0m \u001b[1;32mnot\u001b[0m \u001b[1;32mNone\u001b[0m\u001b[1;33m:\u001b[0m\u001b[1;33m\u001b[0m\u001b[1;33m\u001b[0m\u001b[0m\n\u001b[1;32m--> 568\u001b[1;33m         \u001b[1;32mraise\u001b[0m \u001b[0mValueError\u001b[0m\u001b[1;33m(\u001b[0m\u001b[1;34m\"aggfunc cannot be used without values.\"\u001b[0m\u001b[1;33m)\u001b[0m\u001b[1;33m\u001b[0m\u001b[1;33m\u001b[0m\u001b[0m\n\u001b[0m\u001b[0;32m    569\u001b[0m \u001b[1;33m\u001b[0m\u001b[0m\n\u001b[0;32m    570\u001b[0m     \u001b[1;32mif\u001b[0m \u001b[0mvalues\u001b[0m \u001b[1;32mis\u001b[0m \u001b[1;32mnot\u001b[0m \u001b[1;32mNone\u001b[0m \u001b[1;32mand\u001b[0m \u001b[0maggfunc\u001b[0m \u001b[1;32mis\u001b[0m \u001b[1;32mNone\u001b[0m\u001b[1;33m:\u001b[0m\u001b[1;33m\u001b[0m\u001b[1;33m\u001b[0m\u001b[0m\n",
      "\u001b[1;31mValueError\u001b[0m: aggfunc cannot be used without values."
     ]
    }
   ],
   "source": [
    "pd.crosstab(man_cars[\"am\"],aut_cars[\"am\"],aggfunc='mean')"
   ]
  },
  {
   "cell_type": "markdown",
   "id": "5d725e25",
   "metadata": {},
   "source": [
    "### 10.\tCreate a crosstab displaying count of “am vs cyl”"
   ]
  },
  {
   "cell_type": "code",
   "execution_count": null,
   "id": "10f3284d",
   "metadata": {},
   "outputs": [],
   "source": [
    "pd.crosstab(df[\"am\"],df[\"cyl\"])"
   ]
  },
  {
   "cell_type": "markdown",
   "id": "7d88e24e",
   "metadata": {},
   "source": [
    "### 11.\tWhat is the correlation between the weight of the car and mpg"
   ]
  },
  {
   "cell_type": "code",
   "execution_count": null,
   "id": "72d75f72",
   "metadata": {},
   "outputs": [],
   "source": [
    "df[\"wt\"].corr(df[\"mpg\"])"
   ]
  },
  {
   "cell_type": "code",
   "execution_count": null,
   "id": "a6620ef2",
   "metadata": {},
   "outputs": [],
   "source": []
  },
  {
   "cell_type": "code",
   "execution_count": null,
   "id": "88920a89",
   "metadata": {},
   "outputs": [],
   "source": []
  }
 ],
 "metadata": {
  "kernelspec": {
   "display_name": "Python 3",
   "language": "python",
   "name": "python3"
  },
  "language_info": {
   "codemirror_mode": {
    "name": "ipython",
    "version": 3
   },
   "file_extension": ".py",
   "mimetype": "text/x-python",
   "name": "python",
   "nbconvert_exporter": "python",
   "pygments_lexer": "ipython3",
   "version": "3.7.9"
  }
 },
 "nbformat": 4,
 "nbformat_minor": 5
}
