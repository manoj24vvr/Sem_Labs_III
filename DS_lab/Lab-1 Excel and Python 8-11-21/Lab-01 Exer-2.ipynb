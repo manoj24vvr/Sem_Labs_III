{
 "cells": [
  {
   "cell_type": "markdown",
   "id": "90b0cbd0",
   "metadata": {},
   "source": [
    "## Exer 2 – Data frame creation and manipulation"
   ]
  },
  {
   "cell_type": "code",
   "execution_count": 22,
   "id": "033dee59",
   "metadata": {},
   "outputs": [],
   "source": [
    "#Importing the Pandas Library\n",
    "\n",
    "import pandas as pd"
   ]
  },
  {
   "cell_type": "markdown",
   "id": "def3e191",
   "metadata": {},
   "source": [
    "### 1. Create a data frame with details of 10 students and columns as Roll Number, Name, Gender, Marks1, Marks2, Marks3."
   ]
  },
  {
   "cell_type": "code",
   "execution_count": 23,
   "id": "bd23fb5b",
   "metadata": {},
   "outputs": [],
   "source": [
    "#Creating a DataFrame manually\n",
    "studentDetails = {\"Roll Number\":[1,2,3,4,5,6,7,8,9,10],\"Name\":[\"Karthik\",\"Siddharth\",\"Pranavi\",\"Suresh\",\"Jahnavi\",\"Venkat\",\"Balaji\",\"Anjali\",\"Akshith\",\"Divya\"],\"Gender\":[\"Male\",\"Male\",\"Female\",\"Male\",\"Female\",\"Male\",\"Male\",\"Female\",\"Male\",\"Female\"],\"Marks1\":[80,35,45,67,75,34,85,76,30,58],\"Marks2\":[75,38,60,70,28,65,39,75,88,65],\"Marks3\":[80,55,85,75,86,45,63,84,95,76]}\n",
    "df = pd.DataFrame(studentDetails)"
   ]
  },
  {
   "cell_type": "code",
   "execution_count": 24,
   "id": "c51c4977",
   "metadata": {},
   "outputs": [
    {
     "data": {
      "text/html": [
       "<div>\n",
       "<style scoped>\n",
       "    .dataframe tbody tr th:only-of-type {\n",
       "        vertical-align: middle;\n",
       "    }\n",
       "\n",
       "    .dataframe tbody tr th {\n",
       "        vertical-align: top;\n",
       "    }\n",
       "\n",
       "    .dataframe thead th {\n",
       "        text-align: right;\n",
       "    }\n",
       "</style>\n",
       "<table border=\"1\" class=\"dataframe\">\n",
       "  <thead>\n",
       "    <tr style=\"text-align: right;\">\n",
       "      <th></th>\n",
       "      <th>Roll Number</th>\n",
       "      <th>Name</th>\n",
       "      <th>Gender</th>\n",
       "      <th>Marks1</th>\n",
       "      <th>Marks2</th>\n",
       "      <th>Marks3</th>\n",
       "    </tr>\n",
       "  </thead>\n",
       "  <tbody>\n",
       "    <tr>\n",
       "      <th>0</th>\n",
       "      <td>1</td>\n",
       "      <td>Karthik</td>\n",
       "      <td>Male</td>\n",
       "      <td>80</td>\n",
       "      <td>75</td>\n",
       "      <td>80</td>\n",
       "    </tr>\n",
       "    <tr>\n",
       "      <th>1</th>\n",
       "      <td>2</td>\n",
       "      <td>Siddharth</td>\n",
       "      <td>Male</td>\n",
       "      <td>35</td>\n",
       "      <td>38</td>\n",
       "      <td>55</td>\n",
       "    </tr>\n",
       "    <tr>\n",
       "      <th>2</th>\n",
       "      <td>3</td>\n",
       "      <td>Pranavi</td>\n",
       "      <td>Female</td>\n",
       "      <td>45</td>\n",
       "      <td>60</td>\n",
       "      <td>85</td>\n",
       "    </tr>\n",
       "    <tr>\n",
       "      <th>3</th>\n",
       "      <td>4</td>\n",
       "      <td>Suresh</td>\n",
       "      <td>Male</td>\n",
       "      <td>67</td>\n",
       "      <td>70</td>\n",
       "      <td>75</td>\n",
       "    </tr>\n",
       "    <tr>\n",
       "      <th>4</th>\n",
       "      <td>5</td>\n",
       "      <td>Jahnavi</td>\n",
       "      <td>Female</td>\n",
       "      <td>75</td>\n",
       "      <td>28</td>\n",
       "      <td>86</td>\n",
       "    </tr>\n",
       "    <tr>\n",
       "      <th>5</th>\n",
       "      <td>6</td>\n",
       "      <td>Venkat</td>\n",
       "      <td>Male</td>\n",
       "      <td>34</td>\n",
       "      <td>65</td>\n",
       "      <td>45</td>\n",
       "    </tr>\n",
       "    <tr>\n",
       "      <th>6</th>\n",
       "      <td>7</td>\n",
       "      <td>Balaji</td>\n",
       "      <td>Male</td>\n",
       "      <td>85</td>\n",
       "      <td>39</td>\n",
       "      <td>63</td>\n",
       "    </tr>\n",
       "    <tr>\n",
       "      <th>7</th>\n",
       "      <td>8</td>\n",
       "      <td>Anjali</td>\n",
       "      <td>Female</td>\n",
       "      <td>76</td>\n",
       "      <td>75</td>\n",
       "      <td>84</td>\n",
       "    </tr>\n",
       "    <tr>\n",
       "      <th>8</th>\n",
       "      <td>9</td>\n",
       "      <td>Akshith</td>\n",
       "      <td>Male</td>\n",
       "      <td>30</td>\n",
       "      <td>88</td>\n",
       "      <td>95</td>\n",
       "    </tr>\n",
       "    <tr>\n",
       "      <th>9</th>\n",
       "      <td>10</td>\n",
       "      <td>Divya</td>\n",
       "      <td>Female</td>\n",
       "      <td>58</td>\n",
       "      <td>65</td>\n",
       "      <td>76</td>\n",
       "    </tr>\n",
       "  </tbody>\n",
       "</table>\n",
       "</div>"
      ],
      "text/plain": [
       "   Roll Number       Name  Gender  Marks1  Marks2  Marks3\n",
       "0            1    Karthik    Male      80      75      80\n",
       "1            2  Siddharth    Male      35      38      55\n",
       "2            3    Pranavi  Female      45      60      85\n",
       "3            4     Suresh    Male      67      70      75\n",
       "4            5    Jahnavi  Female      75      28      86\n",
       "5            6     Venkat    Male      34      65      45\n",
       "6            7     Balaji    Male      85      39      63\n",
       "7            8     Anjali  Female      76      75      84\n",
       "8            9    Akshith    Male      30      88      95\n",
       "9           10      Divya  Female      58      65      76"
      ]
     },
     "execution_count": 24,
     "metadata": {},
     "output_type": "execute_result"
    }
   ],
   "source": [
    "#Displaying the DataFrame scoreCard.\n",
    "df"
   ]
  },
  {
   "cell_type": "markdown",
   "id": "500b2044",
   "metadata": {},
   "source": [
    "### 2. Create a new column with total marks"
   ]
  },
  {
   "cell_type": "code",
   "execution_count": 25,
   "id": "e8b7b385",
   "metadata": {},
   "outputs": [
    {
     "data": {
      "text/html": [
       "<div>\n",
       "<style scoped>\n",
       "    .dataframe tbody tr th:only-of-type {\n",
       "        vertical-align: middle;\n",
       "    }\n",
       "\n",
       "    .dataframe tbody tr th {\n",
       "        vertical-align: top;\n",
       "    }\n",
       "\n",
       "    .dataframe thead th {\n",
       "        text-align: right;\n",
       "    }\n",
       "</style>\n",
       "<table border=\"1\" class=\"dataframe\">\n",
       "  <thead>\n",
       "    <tr style=\"text-align: right;\">\n",
       "      <th></th>\n",
       "      <th>Roll Number</th>\n",
       "      <th>Name</th>\n",
       "      <th>Gender</th>\n",
       "      <th>Marks1</th>\n",
       "      <th>Marks2</th>\n",
       "      <th>Marks3</th>\n",
       "      <th>Total Marks</th>\n",
       "    </tr>\n",
       "  </thead>\n",
       "  <tbody>\n",
       "    <tr>\n",
       "      <th>0</th>\n",
       "      <td>1</td>\n",
       "      <td>Karthik</td>\n",
       "      <td>Male</td>\n",
       "      <td>80</td>\n",
       "      <td>75</td>\n",
       "      <td>80</td>\n",
       "      <td>235</td>\n",
       "    </tr>\n",
       "    <tr>\n",
       "      <th>1</th>\n",
       "      <td>2</td>\n",
       "      <td>Siddharth</td>\n",
       "      <td>Male</td>\n",
       "      <td>35</td>\n",
       "      <td>38</td>\n",
       "      <td>55</td>\n",
       "      <td>128</td>\n",
       "    </tr>\n",
       "    <tr>\n",
       "      <th>2</th>\n",
       "      <td>3</td>\n",
       "      <td>Pranavi</td>\n",
       "      <td>Female</td>\n",
       "      <td>45</td>\n",
       "      <td>60</td>\n",
       "      <td>85</td>\n",
       "      <td>190</td>\n",
       "    </tr>\n",
       "    <tr>\n",
       "      <th>3</th>\n",
       "      <td>4</td>\n",
       "      <td>Suresh</td>\n",
       "      <td>Male</td>\n",
       "      <td>67</td>\n",
       "      <td>70</td>\n",
       "      <td>75</td>\n",
       "      <td>212</td>\n",
       "    </tr>\n",
       "    <tr>\n",
       "      <th>4</th>\n",
       "      <td>5</td>\n",
       "      <td>Jahnavi</td>\n",
       "      <td>Female</td>\n",
       "      <td>75</td>\n",
       "      <td>28</td>\n",
       "      <td>86</td>\n",
       "      <td>189</td>\n",
       "    </tr>\n",
       "    <tr>\n",
       "      <th>5</th>\n",
       "      <td>6</td>\n",
       "      <td>Venkat</td>\n",
       "      <td>Male</td>\n",
       "      <td>34</td>\n",
       "      <td>65</td>\n",
       "      <td>45</td>\n",
       "      <td>144</td>\n",
       "    </tr>\n",
       "    <tr>\n",
       "      <th>6</th>\n",
       "      <td>7</td>\n",
       "      <td>Balaji</td>\n",
       "      <td>Male</td>\n",
       "      <td>85</td>\n",
       "      <td>39</td>\n",
       "      <td>63</td>\n",
       "      <td>187</td>\n",
       "    </tr>\n",
       "    <tr>\n",
       "      <th>7</th>\n",
       "      <td>8</td>\n",
       "      <td>Anjali</td>\n",
       "      <td>Female</td>\n",
       "      <td>76</td>\n",
       "      <td>75</td>\n",
       "      <td>84</td>\n",
       "      <td>235</td>\n",
       "    </tr>\n",
       "    <tr>\n",
       "      <th>8</th>\n",
       "      <td>9</td>\n",
       "      <td>Akshith</td>\n",
       "      <td>Male</td>\n",
       "      <td>30</td>\n",
       "      <td>88</td>\n",
       "      <td>95</td>\n",
       "      <td>213</td>\n",
       "    </tr>\n",
       "    <tr>\n",
       "      <th>9</th>\n",
       "      <td>10</td>\n",
       "      <td>Divya</td>\n",
       "      <td>Female</td>\n",
       "      <td>58</td>\n",
       "      <td>65</td>\n",
       "      <td>76</td>\n",
       "      <td>199</td>\n",
       "    </tr>\n",
       "  </tbody>\n",
       "</table>\n",
       "</div>"
      ],
      "text/plain": [
       "   Roll Number       Name  Gender  Marks1  Marks2  Marks3  Total Marks\n",
       "0            1    Karthik    Male      80      75      80          235\n",
       "1            2  Siddharth    Male      35      38      55          128\n",
       "2            3    Pranavi  Female      45      60      85          190\n",
       "3            4     Suresh    Male      67      70      75          212\n",
       "4            5    Jahnavi  Female      75      28      86          189\n",
       "5            6     Venkat    Male      34      65      45          144\n",
       "6            7     Balaji    Male      85      39      63          187\n",
       "7            8     Anjali  Female      76      75      84          235\n",
       "8            9    Akshith    Male      30      88      95          213\n",
       "9           10      Divya  Female      58      65      76          199"
      ]
     },
     "execution_count": 25,
     "metadata": {},
     "output_type": "execute_result"
    }
   ],
   "source": [
    "df[\"Total Marks\"] = df[\"Marks1\"]+df[\"Marks2\"]+df[\"Marks3\"]\n",
    "df"
   ]
  },
  {
   "cell_type": "markdown",
   "id": "b91ff8eb",
   "metadata": {},
   "source": [
    "### 3. Find the lowest marks in Marks1"
   ]
  },
  {
   "cell_type": "code",
   "execution_count": 26,
   "id": "7d081617",
   "metadata": {},
   "outputs": [
    {
     "data": {
      "text/plain": [
       "30"
      ]
     },
     "execution_count": 26,
     "metadata": {},
     "output_type": "execute_result"
    }
   ],
   "source": [
    "\n",
    "df[\"Marks1\"].min()"
   ]
  },
  {
   "cell_type": "markdown",
   "id": "4b2543ac",
   "metadata": {},
   "source": [
    "### 4. Find the Highest marks in Marks2"
   ]
  },
  {
   "cell_type": "code",
   "execution_count": 27,
   "id": "a957a358",
   "metadata": {},
   "outputs": [
    {
     "data": {
      "text/plain": [
       "88"
      ]
     },
     "execution_count": 27,
     "metadata": {},
     "output_type": "execute_result"
    }
   ],
   "source": [
    "df[\"Marks2\"].max()"
   ]
  },
  {
   "cell_type": "markdown",
   "id": "339a9d6b",
   "metadata": {},
   "source": [
    "### 5. Find the average marks in Marks3"
   ]
  },
  {
   "cell_type": "code",
   "execution_count": 28,
   "id": "1237729a",
   "metadata": {},
   "outputs": [
    {
     "data": {
      "text/plain": [
       "74.4"
      ]
     },
     "execution_count": 28,
     "metadata": {},
     "output_type": "execute_result"
    }
   ],
   "source": [
    "df[\"Marks3\"].mean()"
   ]
  },
  {
   "cell_type": "markdown",
   "id": "8d905a08",
   "metadata": {},
   "source": [
    "### 6. Find student name with highest average"
   ]
  },
  {
   "cell_type": "code",
   "execution_count": 29,
   "id": "c7931cc9",
   "metadata": {},
   "outputs": [
    {
     "data": {
      "text/html": [
       "<div>\n",
       "<style scoped>\n",
       "    .dataframe tbody tr th:only-of-type {\n",
       "        vertical-align: middle;\n",
       "    }\n",
       "\n",
       "    .dataframe tbody tr th {\n",
       "        vertical-align: top;\n",
       "    }\n",
       "\n",
       "    .dataframe thead th {\n",
       "        text-align: right;\n",
       "    }\n",
       "</style>\n",
       "<table border=\"1\" class=\"dataframe\">\n",
       "  <thead>\n",
       "    <tr style=\"text-align: right;\">\n",
       "      <th></th>\n",
       "      <th>Roll Number</th>\n",
       "      <th>Name</th>\n",
       "      <th>Gender</th>\n",
       "      <th>Marks1</th>\n",
       "      <th>Marks2</th>\n",
       "      <th>Marks3</th>\n",
       "      <th>Total Marks</th>\n",
       "      <th>Average</th>\n",
       "    </tr>\n",
       "  </thead>\n",
       "  <tbody>\n",
       "    <tr>\n",
       "      <th>0</th>\n",
       "      <td>1</td>\n",
       "      <td>Karthik</td>\n",
       "      <td>Male</td>\n",
       "      <td>80</td>\n",
       "      <td>75</td>\n",
       "      <td>80</td>\n",
       "      <td>235</td>\n",
       "      <td>78.333333</td>\n",
       "    </tr>\n",
       "    <tr>\n",
       "      <th>1</th>\n",
       "      <td>2</td>\n",
       "      <td>Siddharth</td>\n",
       "      <td>Male</td>\n",
       "      <td>35</td>\n",
       "      <td>38</td>\n",
       "      <td>55</td>\n",
       "      <td>128</td>\n",
       "      <td>42.666667</td>\n",
       "    </tr>\n",
       "    <tr>\n",
       "      <th>2</th>\n",
       "      <td>3</td>\n",
       "      <td>Pranavi</td>\n",
       "      <td>Female</td>\n",
       "      <td>45</td>\n",
       "      <td>60</td>\n",
       "      <td>85</td>\n",
       "      <td>190</td>\n",
       "      <td>63.333333</td>\n",
       "    </tr>\n",
       "    <tr>\n",
       "      <th>3</th>\n",
       "      <td>4</td>\n",
       "      <td>Suresh</td>\n",
       "      <td>Male</td>\n",
       "      <td>67</td>\n",
       "      <td>70</td>\n",
       "      <td>75</td>\n",
       "      <td>212</td>\n",
       "      <td>70.666667</td>\n",
       "    </tr>\n",
       "    <tr>\n",
       "      <th>4</th>\n",
       "      <td>5</td>\n",
       "      <td>Jahnavi</td>\n",
       "      <td>Female</td>\n",
       "      <td>75</td>\n",
       "      <td>28</td>\n",
       "      <td>86</td>\n",
       "      <td>189</td>\n",
       "      <td>63.000000</td>\n",
       "    </tr>\n",
       "    <tr>\n",
       "      <th>5</th>\n",
       "      <td>6</td>\n",
       "      <td>Venkat</td>\n",
       "      <td>Male</td>\n",
       "      <td>34</td>\n",
       "      <td>65</td>\n",
       "      <td>45</td>\n",
       "      <td>144</td>\n",
       "      <td>48.000000</td>\n",
       "    </tr>\n",
       "    <tr>\n",
       "      <th>6</th>\n",
       "      <td>7</td>\n",
       "      <td>Balaji</td>\n",
       "      <td>Male</td>\n",
       "      <td>85</td>\n",
       "      <td>39</td>\n",
       "      <td>63</td>\n",
       "      <td>187</td>\n",
       "      <td>62.333333</td>\n",
       "    </tr>\n",
       "    <tr>\n",
       "      <th>7</th>\n",
       "      <td>8</td>\n",
       "      <td>Anjali</td>\n",
       "      <td>Female</td>\n",
       "      <td>76</td>\n",
       "      <td>75</td>\n",
       "      <td>84</td>\n",
       "      <td>235</td>\n",
       "      <td>78.333333</td>\n",
       "    </tr>\n",
       "    <tr>\n",
       "      <th>8</th>\n",
       "      <td>9</td>\n",
       "      <td>Akshith</td>\n",
       "      <td>Male</td>\n",
       "      <td>30</td>\n",
       "      <td>88</td>\n",
       "      <td>95</td>\n",
       "      <td>213</td>\n",
       "      <td>71.000000</td>\n",
       "    </tr>\n",
       "    <tr>\n",
       "      <th>9</th>\n",
       "      <td>10</td>\n",
       "      <td>Divya</td>\n",
       "      <td>Female</td>\n",
       "      <td>58</td>\n",
       "      <td>65</td>\n",
       "      <td>76</td>\n",
       "      <td>199</td>\n",
       "      <td>66.333333</td>\n",
       "    </tr>\n",
       "  </tbody>\n",
       "</table>\n",
       "</div>"
      ],
      "text/plain": [
       "   Roll Number       Name  Gender  Marks1  Marks2  Marks3  Total Marks  \\\n",
       "0            1    Karthik    Male      80      75      80          235   \n",
       "1            2  Siddharth    Male      35      38      55          128   \n",
       "2            3    Pranavi  Female      45      60      85          190   \n",
       "3            4     Suresh    Male      67      70      75          212   \n",
       "4            5    Jahnavi  Female      75      28      86          189   \n",
       "5            6     Venkat    Male      34      65      45          144   \n",
       "6            7     Balaji    Male      85      39      63          187   \n",
       "7            8     Anjali  Female      76      75      84          235   \n",
       "8            9    Akshith    Male      30      88      95          213   \n",
       "9           10      Divya  Female      58      65      76          199   \n",
       "\n",
       "     Average  \n",
       "0  78.333333  \n",
       "1  42.666667  \n",
       "2  63.333333  \n",
       "3  70.666667  \n",
       "4  63.000000  \n",
       "5  48.000000  \n",
       "6  62.333333  \n",
       "7  78.333333  \n",
       "8  71.000000  \n",
       "9  66.333333  "
      ]
     },
     "execution_count": 29,
     "metadata": {},
     "output_type": "execute_result"
    }
   ],
   "source": [
    "df[\"Average\"] = (df[\"Total Marks\"])/3\n",
    "df"
   ]
  },
  {
   "cell_type": "code",
   "execution_count": 30,
   "id": "413288ee",
   "metadata": {},
   "outputs": [
    {
     "data": {
      "text/plain": [
       "0    Karthik\n",
       "7     Anjali\n",
       "Name: Name, dtype: object"
      ]
     },
     "execution_count": 30,
     "metadata": {},
     "output_type": "execute_result"
    }
   ],
   "source": [
    "df[df[\"Average\"]==df[\"Average\"].max()][\"Name\"]"
   ]
  },
  {
   "cell_type": "markdown",
   "id": "8b73c9ea",
   "metadata": {},
   "source": [
    "### 7. Find how many students failed in Marks2 (<40)"
   ]
  },
  {
   "cell_type": "code",
   "execution_count": 31,
   "id": "ba6cf891",
   "metadata": {},
   "outputs": [
    {
     "data": {
      "text/plain": [
       "3"
      ]
     },
     "execution_count": 31,
     "metadata": {},
     "output_type": "execute_result"
    }
   ],
   "source": [
    "#\n",
    "df[df[\"Marks2\"]<40].Name.count()"
   ]
  },
  {
   "cell_type": "code",
   "execution_count": null,
   "id": "21dbe85b",
   "metadata": {},
   "outputs": [],
   "source": []
  },
  {
   "cell_type": "code",
   "execution_count": null,
   "id": "83c78484",
   "metadata": {},
   "outputs": [],
   "source": []
  }
 ],
 "metadata": {
  "kernelspec": {
   "display_name": "Python 3",
   "language": "python",
   "name": "python3"
  },
  "language_info": {
   "codemirror_mode": {
    "name": "ipython",
    "version": 3
   },
   "file_extension": ".py",
   "mimetype": "text/x-python",
   "name": "python",
   "nbconvert_exporter": "python",
   "pygments_lexer": "ipython3",
   "version": "3.7.9"
  }
 },
 "nbformat": 4,
 "nbformat_minor": 5
}
